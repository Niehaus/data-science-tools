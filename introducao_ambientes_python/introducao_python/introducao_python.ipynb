{
 "cells": [
  {
   "cell_type": "markdown",
   "metadata": {},
   "source": [
    "# Introdução a Python\n",
    "## Arquivo de Introdução 1\n",
    "### Em desenvolvimento"
   ]
  },
  {
   "cell_type": "code",
   "execution_count": 1,
   "metadata": {},
   "outputs": [
    {
     "name": "stdout",
     "output_type": "stream",
     "text": [
      "Alô mundo\n",
      "O resultado da soma é  50\n",
      "O resultado da soma é 50\n",
      "<class 'int'>\n"
     ]
    }
   ],
   "source": [
    "# Comentarios em python podem ser realizados desse modo :\n",
    "\n",
    "# declaracao de variaveis, podemos observar que não foi necessário definir o\n",
    "# tipo\n",
    "elemento_a = 20\n",
    "elemento_b = 30\n",
    "\n",
    "# Vamos a nosso primeiro tópico, como exibir para o usuário algo em python\n",
    "# isso é feito através do metodo print\n",
    "print(\"Alô mundo\")\n",
    "\n",
    "resultado = elemento_a + elemento_b\n",
    "print(\"O resultado da soma é \", resultado)\n",
    "# outra maneira de apresenta o resultado é através de um recurso chamdo f string\n",
    "print(f\"O resultado da soma é {resultado}\")\n",
    "\n",
    "# Agora que tal checarmos o tipo presente no resultado\n",
    "print(type(resultado))\n"
   ]
  },
  {
   "cell_type": "code",
   "execution_count": 50,
   "metadata": {},
   "outputs": [
    {
     "name": "stdout",
     "output_type": "stream",
     "text": [
      "Esse erro é proposital !! \n"
     ]
    },
    {
     "ename": "TypeError",
     "evalue": "unsupported operand type(s) for +: 'int' and 'str'",
     "output_type": "error",
     "traceback": [
      "\u001b[0;31m---------------------------------------------------------------------------\u001b[0m",
      "\u001b[0;31mTypeError\u001b[0m                                 Traceback (most recent call last)",
      "\u001b[0;32m<ipython-input-50-caf39ddc57c2>\u001b[0m in \u001b[0;36m<module>\u001b[0;34m\u001b[0m\n\u001b[1;32m      3\u001b[0m \u001b[0;31m# Executando essa linha vai ocorrer um erro\u001b[0m\u001b[0;34m\u001b[0m\u001b[0;34m\u001b[0m\u001b[0;34m\u001b[0m\u001b[0m\n\u001b[1;32m      4\u001b[0m \u001b[0mprint\u001b[0m\u001b[0;34m(\u001b[0m\u001b[0;34m\"Esse erro é proposital !! \"\u001b[0m\u001b[0;34m)\u001b[0m\u001b[0;34m\u001b[0m\u001b[0;34m\u001b[0m\u001b[0m\n\u001b[0;32m----> 5\u001b[0;31m \u001b[0mtipo_distintos\u001b[0m \u001b[0;34m=\u001b[0m \u001b[0melemento_a\u001b[0m \u001b[0;34m+\u001b[0m \u001b[0;34m\"laranja\"\u001b[0m\u001b[0;34m\u001b[0m\u001b[0;34m\u001b[0m\u001b[0m\n\u001b[0m",
      "\u001b[0;31mTypeError\u001b[0m: unsupported operand type(s) for +: 'int' and 'str'"
     ]
    }
   ],
   "source": [
    "# Agora se tentarmos somarmos variaveis de tipo distintos obtemos o seguinte\n",
    "# resultado:\n",
    "# Executando essa linha vai ocorrer um erro\n",
    "print(\"Esse erro é proposital !! \")\n",
    "tipo_distintos = elemento_a + \"laranja\""
   ]
  },
  {
   "cell_type": "markdown",
   "metadata": {},
   "source": [
    "# Estruturas condicionais"
   ]
  },
  {
   "cell_type": "code",
   "execution_count": 49,
   "metadata": {},
   "outputs": [
    {
     "name": "stdout",
     "output_type": "stream",
     "text": [
      "A é maior que B\n",
      "Entrou\n",
      "Not C\n",
      "Else C\n",
      "Valor igual a 5\n"
     ]
    }
   ],
   "source": [
    "A = 10\n",
    "B = 5\n",
    "C = 0\n",
    "if A > B:\n",
    "    print('A é maior que B')\n",
    "\n",
    "if A:\n",
    "    print(\"Entrou\")\n",
    "# 0 é equivalente a condição de falso\n",
    "if C:\n",
    "    print(\"Não entrou\")\n",
    "\n",
    "if not C:\n",
    "    print(\"Not C\")\n",
    "\n",
    "# if else\n",
    "if C:\n",
    "    print(\"entrou C\")\n",
    "else:\n",
    "    print(\"Else C\")\n",
    "\n",
    "# elif\n",
    "valor = 5\n",
    "if valor > B:\n",
    "    print(\"maior que B\")\n",
    "elif valor == 5:\n",
    "    print('Valor igual a 5')\n"
   ]
  },
  {
   "cell_type": "markdown",
   "metadata": {},
   "source": [
    "# Estruturas Listas, dicionário, set"
   ]
  },
  {
   "cell_type": "code",
   "execution_count": 8,
   "metadata": {},
   "outputs": [
    {
     "name": "stdout",
     "output_type": "stream",
     "text": [
      "2\n",
      "laranja\n",
      "cafe\n",
      "[0, 1, 2, 3, 4, 5, 6, 7, 8, 9]\n",
      "Lista uma linha [0, 1, 2, 3, 4, 5, 6, 7, 8, 9]\n"
     ]
    }
   ],
   "source": [
    "# Agora vamos explorar uma das principais estruturas do Python, as listas\n",
    "compras = ['laranja', 'cafe']\n",
    "\n",
    "# podemos checar o tamanho da lista\n",
    "print(len(compras))"
   ]
  },
  {
   "cell_type": "code",
   "execution_count": 9,
   "metadata": {},
   "outputs": [
    {
     "name": "stdout",
     "output_type": "stream",
     "text": [
      "laranja\n",
      "cafe\n"
     ]
    }
   ],
   "source": [
    "# Agora podemos percorrer a lista\n",
    "for i in compras:\n",
    "    print(i)\n",
    "\n",
    "# Gera um lista com intervalo [0,..10]\n",
    "elementos_10 = []\n",
    "for i in range(10):\n",
    "    elementos_10.append(i)"
   ]
  },
  {
   "cell_type": "code",
   "execution_count": 10,
   "metadata": {},
   "outputs": [
    {
     "name": "stdout",
     "output_type": "stream",
     "text": [
      "[0, 1, 2, 3, 4, 5, 6, 7, 8, 9]\n",
      "Lista uma linha [0, 1, 2, 3, 4, 5, 6, 7, 8, 9]\n"
     ]
    }
   ],
   "source": [
    "print(elementos_10)\n",
    "\n",
    "# Gerando uma lista em uma única linha [ 0, 1, 2, .. 10]\n",
    "lista_uma_linha = [i for i in range(10)]\n",
    "\n",
    "print(f\"Lista uma linha {lista_uma_linha}\")"
   ]
  },
  {
   "cell_type": "code",
   "execution_count": 4,
   "metadata": {},
   "outputs": [
    {
     "name": "stdout",
     "output_type": "stream",
     "text": [
      "2.0\n",
      "5.0\n",
      "chave:laranja valor2.0\n",
      "chave:cafe valor5.0\n",
      "Chaves dicionario: dict_keys(['laranja', 'cafe'])\n",
      "Agora vamos exibir os items no dicionário {'laranja': 2.0, 'cafe': 5.0, 'leite': 5}\n"
     ]
    }
   ],
   "source": [
    "# Dicionario\n",
    "carrinho = {\"laranja\":2.0, \"cafe\":5.0}\n",
    "\n",
    "for i in carrinho:\n",
    "    print(carrinho[i])\n",
    "\n",
    "# Chave, valor\n",
    "for chave, valor in carrinho.items():\n",
    "    print(f\"chave:{chave} valor{valor}\")\n",
    "\n",
    "# Chaves do dicionario\n",
    "print(f\"Chaves dicionario: {carrinho.keys()}\")\n",
    "\n",
    "# Adicionar um novo item no dicionário\n",
    "carrinho['leite'] = 5\n",
    "\n",
    "print(f\"Agora vamos exibir os items no dicionário {carrinho}\")"
   ]
  },
  {
   "cell_type": "code",
   "execution_count": 19,
   "metadata": {},
   "outputs": [
    {
     "name": "stdout",
     "output_type": "stream",
     "text": [
      "Conjunto A {'A', 'D', 'B'}\n"
     ]
    }
   ],
   "source": [
    "# Set é uma estrutura de conjuntos que permite operacoes como uniao, interseção\n",
    "conjunto_a = set([\"A\", \"B\"])\n",
    "conjunto_b = set([\"B\", \"C\"])\n",
    "\n",
    "conjunto_a.intersection(conjunto_b)\n",
    "\n",
    "# Adicionamos mais um elemento no conjunto\n",
    "conjunto_a.add('D')\n",
    "print(f\"Conjunto A {conjunto_a}\")"
   ]
  },
  {
   "cell_type": "code",
   "execution_count": 17,
   "metadata": {},
   "outputs": [
    {
     "name": "stdout",
     "output_type": "stream",
     "text": [
      "10\n",
      "1\n"
     ]
    }
   ],
   "source": [
    "# Adiciona elementos repetidos para uma lista\n",
    "lista_repetida = [10 for i in range(10)]\n",
    "print(len(lista_repetida))\n",
    "# elimina elementos duplicados\n",
    "conjunto_sem_repeticao = set(lista_repetida)\n",
    "print(len(conjunto_sem_repeticao))"
   ]
  },
  {
   "cell_type": "code",
   "execution_count": null,
   "metadata": {},
   "outputs": [],
   "source": [
    "# Soma duas listas\n",
    "lista_1 = [10, 20, 30, 40]\n",
    "lista_2 = [1, 2, 3, 4]\n",
    "print(lista_1+lista_2)"
   ]
  },
  {
   "cell_type": "markdown",
   "metadata": {},
   "source": [
    "# Built-in"
   ]
  },
  {
   "cell_type": "code",
   "execution_count": 47,
   "metadata": {},
   "outputs": [
    {
     "name": "stdout",
     "output_type": "stream",
     "text": [
      "Maior 19\n",
      "Menor 0\n",
      "Lista embaralhada [19, 15, 4, 18, 8, 9, 7, 12, 0, 11, 17, 2, 14, 5, 13, 3, 6, 16, 10, 1]\n",
      "lista_ordenada [0, 1, 2, 3, 4, 5, 6, 7, 8, 9, 10, 11, 12, 13, 14, 15, 16, 17, 18, 19]\n"
     ]
    }
   ],
   "source": [
    "lista_20 = [ i for i in range(20)]\n",
    "# Maior elemento de uma lista\n",
    "print(f\"Maior {max(lista_20)}\")\n",
    "# Obtem o menor valor de uma lista\n",
    "print(f\"Menor {min(lista_20)}\")\n",
    "\n",
    "# embaralha uma lista\n",
    "import random\n",
    "random.shuffle(lista_20)\n",
    "# Ordena uma lista\n",
    "print(\"Lista embaralhada\", lista_20)\n",
    "\n",
    "# Lista Ordenada\n",
    "lista_20 = sorted(lista_20)\n",
    "print(\"lista_ordenada\", lista_20)"
   ]
  },
  {
   "cell_type": "code",
   "execution_count": 28,
   "metadata": {},
   "outputs": [],
   "source": [
    "# Criando uma função\n",
    "def soma(a, b):\n",
    "    \"\"\"Soma A + B\"\"\"\n",
    "    return a + b"
   ]
  },
  {
   "cell_type": "code",
   "execution_count": 37,
   "metadata": {},
   "outputs": [
    {
     "name": "stdout",
     "output_type": "stream",
     "text": [
      "15\n"
     ]
    }
   ],
   "source": [
    "print(soma(10, 5))"
   ]
  },
  {
   "cell_type": "code",
   "execution_count": 38,
   "metadata": {},
   "outputs": [
    {
     "name": "stdout",
     "output_type": "stream",
     "text": [
      "Soma lambda 15\n"
     ]
    }
   ],
   "source": [
    "# Soma com função anonima, Lambda\n",
    "print('Soma lambda', soma_lambda(10, 5))"
   ]
  },
  {
   "source": [
    "# Estatística"
   ],
   "cell_type": "markdown",
   "metadata": {}
  }
 ],
 "metadata": {
  "kernelspec": {
   "display_name": "Python 3",
   "language": "python",
   "name": "python3"
  },
  "language_info": {
   "codemirror_mode": {
    "name": "ipython",
    "version": 3
   },
   "file_extension": ".py",
   "mimetype": "text/x-python",
   "name": "python",
   "nbconvert_exporter": "python",
   "pygments_lexer": "ipython3",
   "version": "3.8.6"
  }
 },
 "nbformat": 4,
 "nbformat_minor": 4
}