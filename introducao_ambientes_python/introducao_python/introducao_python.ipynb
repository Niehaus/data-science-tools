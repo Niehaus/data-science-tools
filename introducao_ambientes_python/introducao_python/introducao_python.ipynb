{
 "cells": [
  {
   "cell_type": "markdown",
   "metadata": {},
   "source": [
    "# Introdução a Python\n",
    "## Arquivo de Introdução 1\n",
    "### Em desenvolvimento"
   ]
  },
  {
   "cell_type": "code",
   "execution_count": 1,
   "metadata": {},
   "outputs": [
    {
     "name": "stdout",
     "output_type": "stream",
     "text": [
      "Alô mundo\n",
      "O resultado da soma é  50\n",
      "O resultado da soma é 50\n",
      "<class 'int'>\n"
     ]
    }
   ],
   "source": [
    "# Comentarios em python podem ser realizados desse modo :\n",
    "\n",
    "# declaracao de variaveis, podemos observar que não foi necessário definir o\n",
    "# tipo\n",
    "elemento_a = 20\n",
    "elemento_b = 30\n",
    "\n",
    "# Vamos a nosso primeiro tópico, como exibir para o usuário algo em python\n",
    "# isso é feito através do metodo print\n",
    "print(\"Alô mundo\")\n",
    "\n",
    "resultado = elemento_a + elemento_b\n",
    "print(\"O resultado da soma é \", resultado)\n",
    "# outra maneira de apresenta o resultado é através de um recurso chamdo f string\n",
    "print(f\"O resultado da soma é {resultado}\")\n",
    "\n",
    "# Agora que tal checarmos o tipo presente no resultado\n",
    "print(type(resultado))\n"
   ]
  },
  {
   "cell_type": "code",
   "execution_count": 2,
   "metadata": {},
   "outputs": [],
   "source": [
    "# Agora se tentarmos somarmos variaveis de tipo distintos obtemos o seguinte\n",
    "# resultado:\n",
    "# Executando essa linha vai ocorrer um erro\n",
    "# print(\"Esse erro é proposital !! \")\n",
    "# tipo_distintos = elemento_a + \"laranja\""
   ]
  },
  {
   "cell_type": "markdown",
   "metadata": {},
   "source": [
    "# Estruturas condicionais"
   ]
  },
  {
   "cell_type": "markdown",
   "metadata": {},
   "source": [
    "## Aqui podemos observar algumas estruturas condicionais presentes em python"
   ]
  },
  {
   "cell_type": "code",
   "execution_count": 3,
   "metadata": {},
   "outputs": [
    {
     "name": "stdout",
     "output_type": "stream",
     "text": [
      "A é maior que B\n",
      "Entrou\n",
      "Not C\n",
      "Else C\n",
      "Valor igual a 5\n"
     ]
    }
   ],
   "source": [
    "A = 10\n",
    "B = 5\n",
    "C = 0\n",
    "if A > B:\n",
    "    print('A é maior que B')\n",
    "\n",
    "if A:\n",
    "    print(\"Entrou\")\n",
    "# 0 é equivalente a condição de falso\n",
    "if C:\n",
    "    print(\"Não entrou\")\n",
    "\n",
    "if not C:\n",
    "    print(\"Not C\")\n",
    "\n",
    "# if else\n",
    "if C:\n",
    "    print(\"entrou C\")\n",
    "else:\n",
    "    print(\"Else C\")\n",
    "\n",
    "# elif\n",
    "# A estrtura de elif é uma abreviação para else if, sendo o substituto para switch case presente em outras linguagens.\n",
    "valor = 5\n",
    "if valor > B:\n",
    "    print(\"maior que B\")\n",
    "elif valor == 5:\n",
    "    print('Valor igual a 5')\n"
   ]
  },
  {
   "source": [
    "### consulte outros operadores em https://docs.python.org/3/library/operator.html"
   ],
   "cell_type": "markdown",
   "metadata": {}
  },
  {
   "cell_type": "markdown",
   "metadata": {},
   "source": [
    "# Estruturas de Dados Listas, dicionário, conjuntos (set)"
   ]
  },
  {
   "cell_type": "markdown",
   "metadata": {},
   "source": [
    "## Listas"
   ]
  },
  {
   "cell_type": "code",
   "execution_count": 4,
   "metadata": {},
   "outputs": [
    {
     "name": "stdout",
     "output_type": "stream",
     "text": [
      "2\n"
     ]
    }
   ],
   "source": [
    "# Agora vamos explorar uma das principais estruturas do Python, as listas\n",
    "# Uma lista é definida da seguinte maneira\n",
    "compras = ['laranja', 'cafe']\n",
    "\n",
    "# podemos checar o tamanho da lista, com o comando len\n",
    "print(len(compras))"
   ]
  },
  {
   "cell_type": "code",
   "execution_count": 5,
   "metadata": {},
   "outputs": [
    {
     "name": "stdout",
     "output_type": "stream",
     "text": [
      "laranja\n",
      "cafe\n",
      "0 laranja\n",
      "1 cafe\n",
      "Elementos 10: [0, 1, 2, 3, 4, 5, 6, 7, 8, 9]\n"
     ]
    }
   ],
   "source": [
    "# Em python, o modo nativo de percorremos uma lista de elementos é um for interativo, como apresentado a seguir:\n",
    "for i in compras:\n",
    "    print(i)\n",
    "\n",
    "# Caso seja preciso acessar o indice da lista essa etapa por ser feito com a utilização do enumerate.\n",
    "for index, value in enumerate(compras):\n",
    "    print(index, value)\n",
    "\n",
    "# Gera um lista com intervalo [0,..10]\n",
    "# Podemos adicionar um elemento na lista com o commando append\n",
    "elementos_10 = []\n",
    "for value in range(10):\n",
    "    elementos_10.append(value)\n",
    "\n",
    "print(f'Elementos 10: {elementos_10}')"
   ]
  },
  {
   "cell_type": "code",
   "execution_count": 6,
   "metadata": {},
   "outputs": [
    {
     "name": "stdout",
     "output_type": "stream",
     "text": [
      "Lista uma linha [0, 1, 2, 3, 4, 5, 6, 7, 8, 9]\n"
     ]
    }
   ],
   "source": [
    "\n",
    "# Gerando uma lista em uma única linha [ 0, 1, 2, .. 10]\n",
    "# Compreensão de lista\n",
    "lista_uma_linha = [i for i in range(10)]\n",
    "\n",
    "# Outro modo de gerar uma lista com elementos de 0..10\n",
    "lista_10 = list(range(10))\n",
    "\n",
    "print(f\"Lista uma linha {lista_uma_linha}\")"
   ]
  },
  {
   "cell_type": "code",
   "execution_count": 7,
   "metadata": {},
   "outputs": [
    {
     "name": "stdout",
     "output_type": "stream",
     "text": [
      "O inverso da lista: [9, 8, 7, 6, 5, 4, 3, 2, 1, 0]\n"
     ]
    }
   ],
   "source": [
    "# Fazendo o inverso de uma lista\n",
    "lista_10.reverse()\n",
    "# o inverso da lista\n",
    "print(f\"O inverso da lista: {lista_10}\")"
   ]
  },
  {
   "cell_type": "code",
   "execution_count": 8,
   "metadata": {},
   "outputs": [
    {
     "name": "stdout",
     "output_type": "stream",
     "text": [
      "Lista: [9, 8, 7, 6, 5, 4, 3, 2, 1, 0]\n",
      "0\n",
      "Lista: [9, 8, 7, 6, 5, 4, 3, 2]\n"
     ]
    }
   ],
   "source": [
    "# Removendo um elemento da lista, podemos utilizar o comando remove, no qual é removido um item especifico ou \n",
    "# pop\n",
    "# Lista - LIFO (Last In, First Out) - Pilha\n",
    "print(f\"Lista: {lista_10}\")\n",
    "item_retornado = lista_10.pop()\n",
    "print(item_retornado)\n",
    "item_retornado = lista_10.pop()\n",
    "print(f\"Lista: {lista_10}\")\n",
    "lista_10.remove(3)"
   ]
  },
  {
   "cell_type": "markdown",
   "metadata": {},
   "source": [
    "## Dicionário"
   ]
  },
  {
   "cell_type": "code",
   "execution_count": 9,
   "metadata": {},
   "outputs": [
    {
     "name": "stdout",
     "output_type": "stream",
     "text": [
      "2.0\n",
      "5.0\n",
      "chave:laranja valor2.0\n",
      "chave:cafe valor5.0\n",
      "Chaves dicionario: dict_keys(['laranja', 'cafe'])\n",
      "Valores dict_values([2.0, 5.0])\n",
      "Agora vamos exibir os items no dicionário {'laranja': 2.0, 'cafe': 5.0, 'leite': 5}\n"
     ]
    }
   ],
   "source": [
    "# Dicionario\n",
    "# Uma estrutura de grande importância em python são os dicionários.\n",
    "# Dicionário é estrutura chave valor\n",
    "carrinho = {\"laranja\": 2.0, \"cafe\": 5.0}\n",
    "\n",
    "for i in carrinho:\n",
    "    print(carrinho[i])\n",
    "\n",
    "# Chave, valor\n",
    "for chave, valor in carrinho.items():\n",
    "    print(f\"chave:{chave} valor{valor}\")\n",
    "\n",
    "# Chaves do dicionario\n",
    "print(f\"Chaves dicionario: {carrinho.keys()}\")\n",
    "\n",
    "# Items do dicionários\n",
    "print(f\"Valores {carrinho.values()}\")\n",
    "\n",
    "# Adicionar um novo item no dicionário\n",
    "carrinho['leite'] = 5\n",
    "\n",
    "print(f\"Agora vamos exibir os items no dicionário {carrinho}\")"
   ]
  },
  {
   "cell_type": "markdown",
   "metadata": {},
   "source": [
    "## Conjuntos\n",
    "### Conjuntos ou set() é uma estrutura de dados que permite operações de conjuntos númericos como união, interseção...\n",
    "### Essa estrutura não aceita elementos duplicados"
   ]
  },
  {
   "cell_type": "code",
   "execution_count": 10,
   "metadata": {},
   "outputs": [
    {
     "name": "stdout",
     "output_type": "stream",
     "text": [
      "Conjunto A {'D', 'A', 'B'}\n"
     ]
    }
   ],
   "source": [
    "# Set é uma estrutura de conjuntos que permite operacoes como uniao, interseção\n",
    "# essa estrutura também não permite elementos repitidos.\n",
    "conjunto_a = set([\"A\", \"B\"])\n",
    "conjunto_b = set([\"B\", \"C\"])\n",
    "\n",
    "conjunto_a.intersection(conjunto_b)\n",
    "\n",
    "# Adicionamos mais um elemento no conjunto utilizando o comando add\n",
    "conjunto_a.add('D')\n",
    "print(f\"Conjunto A {conjunto_a}\")"
   ]
  },
  {
   "cell_type": "code",
   "execution_count": 11,
   "metadata": {},
   "outputs": [
    {
     "name": "stdout",
     "output_type": "stream",
     "text": [
      "10\n",
      "1\n"
     ]
    }
   ],
   "source": [
    "# Adiciona elementos repetidos para uma lista\n",
    "lista_repetida = [10 for i in range(10)]\n",
    "print(len(lista_repetida))\n",
    "# elimina elementos duplicados\n",
    "conjunto_sem_repeticao = set(lista_repetida)\n",
    "print(len(conjunto_sem_repeticao))"
   ]
  },
  {
   "cell_type": "code",
   "execution_count": 12,
   "metadata": {},
   "outputs": [
    {
     "name": "stdout",
     "output_type": "stream",
     "text": [
      "[10, 20, 30, 40, 1, 2, 3, 4]\n"
     ]
    }
   ],
   "source": [
    "# Soma duas listas\n",
    "lista_1 = [10, 20, 30, 40]\n",
    "lista_2 = [1, 2, 3, 4]\n",
    "print(lista_1+lista_2)"
   ]
  },
  {
   "cell_type": "markdown",
   "metadata": {},
   "source": [
    "# Built-in"
   ]
  },
  {
   "cell_type": "markdown",
   "metadata": {},
   "source": [
    "### Operadores max, min, sum"
   ]
  },
  {
   "cell_type": "code",
   "execution_count": 35,
   "metadata": {},
   "outputs": [
    {
     "name": "stdout",
     "output_type": "stream",
     "text": [
      "Maior 19\n",
      "Menor 0\n",
      "Soma dos elementos 143\n"
     ]
    }
   ],
   "source": [
    "# gerando uma rede com 20 elementos\n",
    "lista_20 = [ i for i in range(20)]\n",
    "\n",
    "# Maior elemento de uma lista\n",
    "print(f\"Maior {max(lista_20)}\")\n",
    "\n",
    "# Obtem o menor valor de uma lista\n",
    "print(f\"Menor {min(lista_20)}\")\n",
    "\n",
    "# Soma dos elementos de uma lista\n",
    "print(\"Soma dos elementos\", sum(lista))\n"
   ]
  },
  {
   "cell_type": "code",
   "execution_count": 37,
   "metadata": {},
   "outputs": [
    {
     "name": "stdout",
     "output_type": "stream",
     "text": [
      "Lista embaralhada [6, 18, 8, 13, 16, 10, 5, 19, 12, 7, 0, 9, 2, 17, 3, 14, 1, 11, 15, 4]\n"
     ]
    }
   ],
   "source": [
    "# embaralha uma lista\n",
    "import random\n",
    "random.shuffle(lista_20)\n",
    "# Ordena uma lista\n",
    "print(\"Lista embaralhada\", lista_20)"
   ]
  },
  {
   "cell_type": "code",
   "execution_count": 38,
   "metadata": {},
   "outputs": [
    {
     "name": "stdout",
     "output_type": "stream",
     "text": [
      "lista_ordenada [0, 1, 2, 3, 4, 5, 6, 7, 8, 9, 10, 11, 12, 13, 14, 15, 16, 17, 18, 19]\n"
     ]
    }
   ],
   "source": [
    "### Ordenando uma lista\n",
    "# Lista Ordenada\n",
    "lista_20 = sorted(lista_20)\n",
    "print(\"lista_ordenada\", lista_20)"
   ]
  },
  {
   "cell_type": "markdown",
   "metadata": {},
   "source": [
    "# Criando uma função e funções anômimas (Lambda)"
   ]
  },
  {
   "cell_type": "code",
   "execution_count": 14,
   "metadata": {},
   "outputs": [],
   "source": [
    "# Criando uma função\n",
    "def soma(a, b):\n",
    "    \"\"\"Soma A + B\"\"\"\n",
    "    return a + b"
   ]
  },
  {
   "cell_type": "code",
   "execution_count": 15,
   "metadata": {},
   "outputs": [
    {
     "name": "stdout",
     "output_type": "stream",
     "text": [
      "15\n"
     ]
    }
   ],
   "source": [
    "print(soma(10, 5))"
   ]
  },
  {
   "cell_type": "code",
   "execution_count": 21,
   "metadata": {},
   "outputs": [
    {
     "name": "stdout",
     "output_type": "stream",
     "text": [
      "Soma lambda %s %s 15 15\n"
     ]
    }
   ],
   "source": [
    "# Soma com função anonima, Lambda\n",
    "print('Soma lambda %s %s', soma(10, 5), (lambda a,b: a + b)(10, 5))"
   ]
  },
  {
   "cell_type": "code",
   "execution_count": 31,
   "metadata": {},
   "outputs": [
    {
     "name": "stdout",
     "output_type": "stream",
     "text": [
      "190\n"
     ]
    }
   ],
   "source": [
    "# Operador sum\n",
    "print(sum(lista_20), max(lista_20))"
   ]
  },
  {
   "cell_type": "markdown",
   "metadata": {},
   "source": [
    "## Operadores `in` e `is`"
   ]
  },
  {
   "cell_type": "code",
   "execution_count": null,
   "metadata": {},
   "outputs": [],
   "source": [
    "# O built_in in, permite checarmos se determinado elemento está contido em lista, tupla\n",
    "\"casa\" in (\"casaorao\", \"caixa\", \"pedra\")\n",
    "\n",
    "# Por sua vez operador `is` permite comparamos se dois objetos são iguais\n",
    "elemento_a = elemento_b = 5\n",
    "print(elemento_a is elemento_b)\n",
    "elemento_b = 6\n",
    "print(elemento_a, elemento_b)\n",
    "print(elemento_a is elemento_b)"
   ]
  },
  {
   "cell_type": "code",
   "execution_count": null,
   "metadata": {},
   "outputs": [],
   "source": [
    "# Definindo uma classe com \n",
    "class ClasseExemplo:\n",
    "    def __init__(self):\n",
    "        pass\n",
    "A = ClasseExemplo()\n",
    "B = ClasseExemplo()\n",
    "print(A is B, type(A), type(B))"
   ]
  },
  {
   "cell_type": "markdown",
   "metadata": {},
   "source": [
    "# Estatística"
   ]
  },
  {
   "cell_type": "code",
   "execution_count": 1,
   "metadata": {},
   "outputs": [
    {
     "output_type": "stream",
     "name": "stdout",
     "text": [
      "Média 31.8\nMediana 16\nModa 10\nDesvio padrão 29.61756235749323\nVariância 877.2\n"
     ]
    }
   ],
   "source": [
    "import statistics\n",
    "\n",
    "lista = [10, 45, 78, 10, 16]\n",
    "\n",
    "# Média\n",
    "print(\"Média\", statistics.mean(lista))\n",
    "# Mediana\n",
    "print(\"Mediana\", statistics.median(lista))\n",
    "# Moda\n",
    "print(f\"Moda {statistics.mode(lista)}\")\n",
    "# desvio padrao\n",
    "print(\"Desvio padrão\", statistics.stdev(lista))\n",
    "print(\"Variância\", statistics.variance(lista))\n"
   ]
  },
  {
   "cell_type": "code",
   "execution_count": null,
   "metadata": {},
   "outputs": [],
   "source": [
    "## Outras demonstrações no terminal"
   ]
  }
 ],
 "metadata": {
  "kernelspec": {
   "display_name": "Python 3",
   "language": "python",
   "name": "python3"
  },
  "language_info": {
   "codemirror_mode": {
    "name": "ipython",
    "version": 3
   },
   "file_extension": ".py",
   "mimetype": "text/x-python",
   "name": "python",
   "nbconvert_exporter": "python",
   "pygments_lexer": "ipython3",
   "version": "3.8.6"
  }
 },
 "nbformat": 4,
 "nbformat_minor": 4
}